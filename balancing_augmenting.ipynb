{
 "cells": [
  {
   "cell_type": "code",
   "execution_count": 1,
   "id": "cc442b2e-b124-4970-a5c4-96cb186bb1c0",
   "metadata": {
    "tags": []
   },
   "outputs": [
    {
     "name": "stdout",
     "output_type": "stream",
     "text": [
      "Defaulting to user installation because normal site-packages is not writeable\n",
      "Requirement already satisfied: numpy==1.26.4 in /usr/local/lib/python3.12/dist-packages (1.26.4)\n"
     ]
    },
    {
     "name": "stderr",
     "output_type": "stream",
     "text": [
      "2025-04-10 17:22:23.976507: E external/local_xla/xla/stream_executor/cuda/cuda_fft.cc:485] Unable to register cuFFT factory: Attempting to register factory for plugin cuFFT when one has already been registered\n",
      "2025-04-10 17:22:24.181815: E external/local_xla/xla/stream_executor/cuda/cuda_dnn.cc:8473] Unable to register cuDNN factory: Attempting to register factory for plugin cuDNN when one has already been registered\n",
      "2025-04-10 17:22:24.231640: E external/local_xla/xla/stream_executor/cuda/cuda_blas.cc:1471] Unable to register cuBLAS factory: Attempting to register factory for plugin cuBLAS when one has already been registered\n",
      "2025-04-10 17:22:24.654276: I tensorflow/core/platform/cpu_feature_guard.cc:211] This TensorFlow binary is optimized to use available CPU instructions in performance-critical operations.\n",
      "To enable the following instructions: SSE3 SSE4.1 SSE4.2 AVX, in other operations, rebuild TensorFlow with the appropriate compiler flags.\n"
     ]
    },
    {
     "name": "stdout",
     "output_type": "stream",
     "text": [
      "Defaulting to user installation because normal site-packages is not writeable\n",
      "Requirement already satisfied: tensorflow in /usr/local/lib/python3.12/dist-packages (2.17.0+nv24.11)\n",
      "Requirement already satisfied: tensorflow-datasets in /home/ngx3fy/.local/lib/python3.12/site-packages (4.9.8)\n",
      "Requirement already satisfied: absl-py>=1.0.0 in /usr/local/lib/python3.12/dist-packages (from tensorflow) (1.0.0)\n",
      "Requirement already satisfied: astunparse>=1.6.0 in /usr/local/lib/python3.12/dist-packages (from tensorflow) (1.6.3)\n",
      "Requirement already satisfied: flatbuffers>=24.3.25 in /usr/local/lib/python3.12/dist-packages (from tensorflow) (24.3.25)\n",
      "Requirement already satisfied: gast!=0.5.0,!=0.5.1,!=0.5.2,>=0.2.1 in /usr/local/lib/python3.12/dist-packages (from tensorflow) (0.4.0)\n",
      "Requirement already satisfied: google-pasta>=0.1.1 in /usr/local/lib/python3.12/dist-packages (from tensorflow) (0.2.0)\n",
      "Requirement already satisfied: h5py>=3.10.0 in /usr/local/lib/python3.12/dist-packages (from tensorflow) (3.10.0)\n",
      "Requirement already satisfied: libclang>=13.0.0 in /usr/local/lib/python3.12/dist-packages (from tensorflow) (16.0.0)\n",
      "Requirement already satisfied: ml-dtypes<0.5.0,>=0.3.1 in /usr/local/lib/python3.12/dist-packages (from tensorflow) (0.3.2)\n",
      "Requirement already satisfied: opt-einsum>=2.3.2 in /usr/local/lib/python3.12/dist-packages (from tensorflow) (3.3.0)\n",
      "Requirement already satisfied: packaging in /usr/local/lib/python3.12/dist-packages (from tensorflow) (23.2)\n",
      "Requirement already satisfied: protobuf!=4.21.0,!=4.21.1,!=4.21.2,!=4.21.3,!=4.21.4,!=4.21.5,<5.0.0dev,>=3.20.3 in /usr/local/lib/python3.12/dist-packages (from tensorflow) (4.25.3)\n",
      "Requirement already satisfied: requests<3,>=2.21.0 in /usr/local/lib/python3.12/dist-packages (from tensorflow) (2.32.3)\n",
      "Requirement already satisfied: setuptools in /usr/local/lib/python3.12/dist-packages (from tensorflow) (70.3.0)\n",
      "Requirement already satisfied: six>=1.12.0 in /usr/local/lib/python3.12/dist-packages (from tensorflow) (1.16.0)\n",
      "Requirement already satisfied: termcolor>=1.1.0 in /usr/local/lib/python3.12/dist-packages (from tensorflow) (1.1.0)\n",
      "Requirement already satisfied: typing-extensions>=3.6.6 in /usr/local/lib/python3.12/dist-packages (from tensorflow) (4.12.2)\n",
      "Requirement already satisfied: wrapt>=1.11.0 in /usr/local/lib/python3.12/dist-packages (from tensorflow) (1.16.0)\n",
      "Requirement already satisfied: grpcio<2.0,>=1.24.3 in /usr/local/lib/python3.12/dist-packages (from tensorflow) (1.62.1)\n",
      "Requirement already satisfied: tensorboard<2.18,>=2.17 in /usr/local/lib/python3.12/dist-packages (from tensorflow) (2.17.1)\n",
      "Requirement already satisfied: keras>=3.2.0 in /usr/local/lib/python3.12/dist-packages (from tensorflow) (3.3.2)\n",
      "Requirement already satisfied: numpy<2.0.0,>=1.26.0 in /usr/local/lib/python3.12/dist-packages (from tensorflow) (1.26.4)\n",
      "Requirement already satisfied: array_record>=0.5.0 in /home/ngx3fy/.local/lib/python3.12/site-packages (from tensorflow-datasets) (0.7.1)\n",
      "Requirement already satisfied: dm-tree in /usr/local/lib/python3.12/dist-packages (from tensorflow-datasets) (0.1.8)\n",
      "Requirement already satisfied: etils>=1.9.1 in /home/ngx3fy/.local/lib/python3.12/site-packages (from etils[edc,enp,epath,epy,etree]>=1.9.1; python_version >= \"3.11\"->tensorflow-datasets) (1.12.2)\n",
      "Requirement already satisfied: immutabledict in /home/ngx3fy/.local/lib/python3.12/site-packages (from tensorflow-datasets) (4.2.1)\n",
      "Requirement already satisfied: promise in /home/ngx3fy/.local/lib/python3.12/site-packages (from tensorflow-datasets) (2.3)\n",
      "Requirement already satisfied: psutil in /usr/local/lib/python3.12/dist-packages (from tensorflow-datasets) (6.1.0)\n",
      "Requirement already satisfied: pyarrow in /usr/local/lib/python3.12/dist-packages (from tensorflow-datasets) (17.0.0)\n",
      "Requirement already satisfied: simple_parsing in /home/ngx3fy/.local/lib/python3.12/site-packages (from tensorflow-datasets) (0.1.7)\n",
      "Requirement already satisfied: tensorflow-metadata in /home/ngx3fy/.local/lib/python3.12/site-packages (from tensorflow-datasets) (1.17.0)\n",
      "Requirement already satisfied: toml in /home/ngx3fy/.local/lib/python3.12/site-packages (from tensorflow-datasets) (0.10.2)\n",
      "Requirement already satisfied: tqdm in /home/ngx3fy/.local/lib/python3.12/site-packages (from tensorflow-datasets) (4.67.1)\n",
      "Requirement already satisfied: wheel<1.0,>=0.23.0 in /usr/local/lib/python3.12/dist-packages (from astunparse>=1.6.0->tensorflow) (0.45.0)\n",
      "Requirement already satisfied: einops in /home/ngx3fy/.local/lib/python3.12/site-packages (from etils[edc,enp,epath,epy,etree]>=1.9.1; python_version >= \"3.11\"->tensorflow-datasets) (0.8.1)\n",
      "Requirement already satisfied: fsspec in /usr/local/lib/python3.12/dist-packages (from etils[edc,enp,epath,epy,etree]>=1.9.1; python_version >= \"3.11\"->tensorflow-datasets) (2024.10.0)\n",
      "Requirement already satisfied: importlib_resources in /home/ngx3fy/.local/lib/python3.12/site-packages (from etils[edc,enp,epath,epy,etree]>=1.9.1; python_version >= \"3.11\"->tensorflow-datasets) (6.5.2)\n",
      "Requirement already satisfied: zipp in /home/ngx3fy/.local/lib/python3.12/site-packages (from etils[edc,enp,epath,epy,etree]>=1.9.1; python_version >= \"3.11\"->tensorflow-datasets) (3.21.0)\n",
      "Requirement already satisfied: rich in /usr/local/lib/python3.12/dist-packages (from keras>=3.2.0->tensorflow) (13.9.4)\n",
      "Requirement already satisfied: namex in /usr/local/lib/python3.12/dist-packages (from keras>=3.2.0->tensorflow) (0.0.8)\n",
      "Requirement already satisfied: optree in /usr/local/lib/python3.12/dist-packages (from keras>=3.2.0->tensorflow) (0.13.1)\n",
      "Requirement already satisfied: charset-normalizer<4,>=2 in /usr/local/lib/python3.12/dist-packages (from requests<3,>=2.21.0->tensorflow) (3.4.0)\n",
      "Requirement already satisfied: idna<4,>=2.5 in /usr/local/lib/python3.12/dist-packages (from requests<3,>=2.21.0->tensorflow) (3.10)\n",
      "Requirement already satisfied: urllib3<3,>=1.21.1 in /usr/local/lib/python3.12/dist-packages (from requests<3,>=2.21.0->tensorflow) (2.0.7)\n",
      "Requirement already satisfied: certifi>=2017.4.17 in /usr/local/lib/python3.12/dist-packages (from requests<3,>=2.21.0->tensorflow) (2024.8.30)\n",
      "Requirement already satisfied: markdown>=2.6.8 in /usr/local/lib/python3.12/dist-packages (from tensorboard<2.18,>=2.17->tensorflow) (3.7)\n",
      "Requirement already satisfied: tensorboard-data-server<0.8.0,>=0.7.0 in /usr/local/lib/python3.12/dist-packages (from tensorboard<2.18,>=2.17->tensorflow) (0.7.2)\n",
      "Requirement already satisfied: werkzeug>=1.0.1 in /usr/local/lib/python3.12/dist-packages (from tensorboard<2.18,>=2.17->tensorflow) (3.1.3)\n",
      "Requirement already satisfied: docstring-parser<1.0,>=0.15 in /home/ngx3fy/.local/lib/python3.12/site-packages (from simple_parsing->tensorflow-datasets) (0.16)\n",
      "Requirement already satisfied: googleapis-common-protos<2,>=1.56.4 in /home/ngx3fy/.local/lib/python3.12/site-packages (from tensorflow-metadata->tensorflow-datasets) (1.69.2)\n",
      "Requirement already satisfied: MarkupSafe>=2.1.1 in /usr/local/lib/python3.12/dist-packages (from werkzeug>=1.0.1->tensorboard<2.18,>=2.17->tensorflow) (3.0.2)\n",
      "Requirement already satisfied: markdown-it-py>=2.2.0 in /usr/local/lib/python3.12/dist-packages (from rich->keras>=3.2.0->tensorflow) (3.0.0)\n",
      "Requirement already satisfied: pygments<3.0.0,>=2.13.0 in /usr/local/lib/python3.12/dist-packages (from rich->keras>=3.2.0->tensorflow) (2.18.0)\n",
      "Requirement already satisfied: mdurl~=0.1 in /usr/local/lib/python3.12/dist-packages (from markdown-it-py>=2.2.0->rich->keras>=3.2.0->tensorflow) (0.1.2)\n",
      "Defaulting to user installation because normal site-packages is not writeable\n",
      "Requirement already satisfied: tensorflow-datasets in /home/ngx3fy/.local/lib/python3.12/site-packages (4.9.8)\n",
      "Requirement already satisfied: absl-py in /usr/local/lib/python3.12/dist-packages (from tensorflow-datasets) (1.0.0)\n",
      "Requirement already satisfied: array_record>=0.5.0 in /home/ngx3fy/.local/lib/python3.12/site-packages (from tensorflow-datasets) (0.7.1)\n",
      "Requirement already satisfied: dm-tree in /usr/local/lib/python3.12/dist-packages (from tensorflow-datasets) (0.1.8)\n",
      "Requirement already satisfied: etils>=1.9.1 in /home/ngx3fy/.local/lib/python3.12/site-packages (from etils[edc,enp,epath,epy,etree]>=1.9.1; python_version >= \"3.11\"->tensorflow-datasets) (1.12.2)\n",
      "Requirement already satisfied: immutabledict in /home/ngx3fy/.local/lib/python3.12/site-packages (from tensorflow-datasets) (4.2.1)\n",
      "Requirement already satisfied: numpy in /usr/local/lib/python3.12/dist-packages (from tensorflow-datasets) (1.26.4)\n",
      "Requirement already satisfied: promise in /home/ngx3fy/.local/lib/python3.12/site-packages (from tensorflow-datasets) (2.3)\n",
      "Requirement already satisfied: protobuf>=3.20 in /usr/local/lib/python3.12/dist-packages (from tensorflow-datasets) (4.25.3)\n",
      "Requirement already satisfied: psutil in /usr/local/lib/python3.12/dist-packages (from tensorflow-datasets) (6.1.0)\n",
      "Requirement already satisfied: pyarrow in /usr/local/lib/python3.12/dist-packages (from tensorflow-datasets) (17.0.0)\n",
      "Requirement already satisfied: requests>=2.19.0 in /usr/local/lib/python3.12/dist-packages (from tensorflow-datasets) (2.32.3)\n",
      "Requirement already satisfied: simple_parsing in /home/ngx3fy/.local/lib/python3.12/site-packages (from tensorflow-datasets) (0.1.7)\n",
      "Requirement already satisfied: tensorflow-metadata in /home/ngx3fy/.local/lib/python3.12/site-packages (from tensorflow-datasets) (1.17.0)\n",
      "Requirement already satisfied: termcolor in /usr/local/lib/python3.12/dist-packages (from tensorflow-datasets) (1.1.0)\n",
      "Requirement already satisfied: toml in /home/ngx3fy/.local/lib/python3.12/site-packages (from tensorflow-datasets) (0.10.2)\n",
      "Requirement already satisfied: tqdm in /home/ngx3fy/.local/lib/python3.12/site-packages (from tensorflow-datasets) (4.67.1)\n",
      "Requirement already satisfied: wrapt in /usr/local/lib/python3.12/dist-packages (from tensorflow-datasets) (1.16.0)\n",
      "Requirement already satisfied: einops in /home/ngx3fy/.local/lib/python3.12/site-packages (from etils[edc,enp,epath,epy,etree]>=1.9.1; python_version >= \"3.11\"->tensorflow-datasets) (0.8.1)\n",
      "Requirement already satisfied: fsspec in /usr/local/lib/python3.12/dist-packages (from etils[edc,enp,epath,epy,etree]>=1.9.1; python_version >= \"3.11\"->tensorflow-datasets) (2024.10.0)\n",
      "Requirement already satisfied: importlib_resources in /home/ngx3fy/.local/lib/python3.12/site-packages (from etils[edc,enp,epath,epy,etree]>=1.9.1; python_version >= \"3.11\"->tensorflow-datasets) (6.5.2)\n",
      "Requirement already satisfied: typing_extensions in /usr/local/lib/python3.12/dist-packages (from etils[edc,enp,epath,epy,etree]>=1.9.1; python_version >= \"3.11\"->tensorflow-datasets) (4.12.2)\n",
      "Requirement already satisfied: zipp in /home/ngx3fy/.local/lib/python3.12/site-packages (from etils[edc,enp,epath,epy,etree]>=1.9.1; python_version >= \"3.11\"->tensorflow-datasets) (3.21.0)\n",
      "Requirement already satisfied: charset-normalizer<4,>=2 in /usr/local/lib/python3.12/dist-packages (from requests>=2.19.0->tensorflow-datasets) (3.4.0)\n",
      "Requirement already satisfied: idna<4,>=2.5 in /usr/local/lib/python3.12/dist-packages (from requests>=2.19.0->tensorflow-datasets) (3.10)\n",
      "Requirement already satisfied: urllib3<3,>=1.21.1 in /usr/local/lib/python3.12/dist-packages (from requests>=2.19.0->tensorflow-datasets) (2.0.7)\n",
      "Requirement already satisfied: certifi>=2017.4.17 in /usr/local/lib/python3.12/dist-packages (from requests>=2.19.0->tensorflow-datasets) (2024.8.30)\n",
      "Requirement already satisfied: six in /usr/local/lib/python3.12/dist-packages (from absl-py->tensorflow-datasets) (1.16.0)\n",
      "Requirement already satisfied: docstring-parser<1.0,>=0.15 in /home/ngx3fy/.local/lib/python3.12/site-packages (from simple_parsing->tensorflow-datasets) (0.16)\n",
      "Requirement already satisfied: googleapis-common-protos<2,>=1.56.4 in /home/ngx3fy/.local/lib/python3.12/site-packages (from tensorflow-metadata->tensorflow-datasets) (1.69.2)\n"
     ]
    }
   ],
   "source": [
    "!pip install numpy==1.26.4\n",
    "import matplotlib.pyplot as plt\n",
    "import tensorflow as tf\n",
    "!pip install tensorflow tensorflow-datasets\n",
    "!pip install --upgrade tensorflow-datasets\n"
   ]
  },
  {
   "cell_type": "code",
   "execution_count": 2,
   "id": "21ebb885-5d6d-4501-9047-15b6e26755c4",
   "metadata": {
    "tags": []
   },
   "outputs": [
    {
     "name": "stdout",
     "output_type": "stream",
     "text": [
      "Available class labels:\n",
      "0: Apple___Apple_scab\n",
      "1: Apple___Black_rot\n",
      "2: Apple___Cedar_apple_rust\n",
      "3: Apple___healthy\n",
      "4: Blueberry___healthy\n",
      "5: Cherry___healthy\n",
      "6: Cherry___Powdery_mildew\n",
      "7: Corn___Cercospora_leaf_spot Gray_leaf_spot\n",
      "8: Corn___Common_rust\n",
      "9: Corn___healthy\n",
      "10: Corn___Northern_Leaf_Blight\n",
      "11: Grape___Black_rot\n",
      "12: Grape___Esca_(Black_Measles)\n",
      "13: Grape___healthy\n",
      "14: Grape___Leaf_blight_(Isariopsis_Leaf_Spot)\n",
      "15: Orange___Haunglongbing_(Citrus_greening)\n",
      "16: Peach___Bacterial_spot\n",
      "17: Peach___healthy\n",
      "18: Pepper,_bell___Bacterial_spot\n",
      "19: Pepper,_bell___healthy\n",
      "20: Potato___Early_blight\n",
      "21: Potato___healthy\n",
      "22: Potato___Late_blight\n",
      "23: Raspberry___healthy\n",
      "24: Soybean___healthy\n",
      "25: Squash___Powdery_mildew\n",
      "26: Strawberry___healthy\n",
      "27: Strawberry___Leaf_scorch\n",
      "28: Tomato___Bacterial_spot\n",
      "29: Tomato___Early_blight\n",
      "30: Tomato___healthy\n",
      "31: Tomato___Late_blight\n",
      "32: Tomato___Leaf_Mold\n",
      "33: Tomato___Septoria_leaf_spot\n",
      "34: Tomato___Spider_mites Two-spotted_spider_mite\n",
      "35: Tomato___Target_Spot\n",
      "36: Tomato___Tomato_mosaic_virus\n",
      "37: Tomato___Tomato_Yellow_Leaf_Curl_Virus\n"
     ]
    },
    {
     "name": "stderr",
     "output_type": "stream",
     "text": [
      "2025-04-10 17:22:32.664579: I tensorflow/core/common_runtime/gpu/gpu_device.cc:2021] Created device /job:localhost/replica:0/task:0/device:GPU:0 with 9776 MB memory:  -> device: 0, name: NVIDIA GeForce RTX 2080 Ti, pci bus id: 0000:60:00.0, compute capability: 7.5\n"
     ]
    }
   ],
   "source": [
    "import tensorflow_datasets as tfds\n",
    "\n",
    "# Load the PlantVillage dataset\n",
    "dataset, info = tfds.load('plant_village', with_info=True, as_supervised=True)\n",
    "full_dataset = dataset['train']\n",
    "\n",
    "# Split the dataset into training and testing datasets\n",
    "\n",
    "# Load dataset metadata\n",
    "full_dataset, info = tfds.load('plant_village',split='train', with_info=True,  as_supervised=True)\n",
    "\n",
    "# Print all label names\n",
    "label_names = info.features['label'].names\n",
    "print(\"Available class labels:\")\n",
    "for i, name in enumerate(label_names):\n",
    "    print(f\"{i}: {name}\")\n"
   ]
  },
  {
   "cell_type": "code",
   "execution_count": null,
   "id": "a3048419-4092-4476-85ba-ce10f3914515",
   "metadata": {},
   "outputs": [],
   "source": [
    "import tensorflow_datasets as tfds\n",
    "\n",
    "# Load the PlantVillage dataset\n",
    "dataset, info = tfds.load('plant_village', with_info=True, as_supervised=True)\n",
    "full_dataset = dataset['train']\n",
    "\n",
    "# Split the dataset into training and testing datasets\n",
    "\n",
    "# Load dataset metadata\n",
    "full_dataset, info = tfds.load('plant_village',split='train', with_info=True,  as_supervised=True)\n",
    "\n",
    "# Print all label names\n",
    "label_names = info.features['label'].names\n",
    "print(\"Available class labels:\")\n",
    "for i, name in enumerate(label_names):\n",
    "    print(f\"{i}: {name}\")\n",
    "\n",
    "# Correct tomato class names from the dataset\n",
    "tomato_classes = [\n",
    "    'Tomato___Bacterial_spot',\n",
    "    'Tomato___Early_blight',\n",
    "    'Tomato___healthy',\n",
    "    'Tomato___Late_blight',\n",
    "    'Tomato___Leaf_Mold',\n",
    "    'Tomato___Septoria_leaf_spot',\n",
    "    'Tomato___Spider_mites Two-spotted_spider_mite',\n",
    "    'Tomato___Target_Spot',\n",
    "    'Tomato___Tomato_mosaic_virus',\n",
    "    'Tomato___Tomato_Yellow_Leaf_Curl_Virus'\n",
    "]\n",
    "\n",
    "# Get indices of tomato classes\n",
    "tomato_label_indices = tf.constant([label_names.index(name) for name in tomato_classes],dtype=tf.int64)\n",
    "\n",
    "# Filter the dataset\n",
    "def filter_tomato(img, label):\n",
    "    label = tf.cast(label, tf.int64)\n",
    "    return tf.reduce_any(tf.equal(label, tomato_label_indices))\n",
    "\n",
    "tomato_dataset = full_dataset.filter(filter_tomato)\n"
   ]
  },
  {
   "cell_type": "code",
   "execution_count": 4,
   "id": "b55cdf66-bddf-4579-905a-b2d1077eec35",
   "metadata": {
    "tags": []
   },
   "outputs": [
    {
     "name": "stdout",
     "output_type": "stream",
     "text": [
      "Unique class labels in the tomato dataset:\n",
      "28\n",
      "29\n",
      "30\n",
      "31\n",
      "32\n",
      "33\n",
      "34\n",
      "35\n",
      "36\n",
      "37\n"
     ]
    },
    {
     "name": "stderr",
     "output_type": "stream",
     "text": [
      "2025-04-10 17:23:01.583117: I tensorflow/core/framework/local_rendezvous.cc:404] Local rendezvous is aborting with status: OUT_OF_RANGE: End of sequence\n"
     ]
    }
   ],
   "source": [
    "import tensorflow as tf\n",
    "\n",
    "# Initialize a set to store unique class labels\n",
    "unique_classes = set()\n",
    "\n",
    "# Iterate through the dataset and collect the unique class labels\n",
    "for _, label in tomato_dataset:\n",
    "    unique_classes.add(label.numpy())  # add the class label to the set\n",
    "\n",
    "# Get the class labels as a list\n",
    "unique_classes_list = sorted(list(unique_classes))\n",
    "\n",
    "# Print out the unique class labels\n",
    "print(\"Unique class labels in the tomato dataset:\")\n",
    "for label in unique_classes_list:\n",
    "    print(label)"
   ]
  },
  {
   "cell_type": "code",
   "execution_count": 5,
   "id": "94de3401-0f8d-444f-a7b5-f57503b75dc6",
   "metadata": {
    "tags": []
   },
   "outputs": [
    {
     "name": "stdout",
     "output_type": "stream",
     "text": [
      "Class names present in the tomato dataset:\n",
      "Tomato___Bacterial_spot\n",
      "Tomato___Early_blight\n",
      "Tomato___healthy\n",
      "Tomato___Late_blight\n",
      "Tomato___Leaf_Mold\n",
      "Tomato___Septoria_leaf_spot\n",
      "Tomato___Spider_mites Two-spotted_spider_mite\n",
      "Tomato___Target_Spot\n",
      "Tomato___Tomato_mosaic_virus\n",
      "Tomato___Tomato_Yellow_Leaf_Curl_Virus\n"
     ]
    },
    {
     "name": "stderr",
     "output_type": "stream",
     "text": [
      "2025-04-10 17:23:30.107626: I tensorflow/core/framework/local_rendezvous.cc:404] Local rendezvous is aborting with status: OUT_OF_RANGE: End of sequence\n"
     ]
    }
   ],
   "source": [
    "# List of class names based on tomato diseases\n",
    "label_names = [\n",
    "    'Tomato___Bacterial_spot', 'Tomato___Early_blight', 'Tomato___healthy',\n",
    "    'Tomato___Late_blight', 'Tomato___Leaf_Mold', 'Tomato___Septoria_leaf_spot',\n",
    "    'Tomato___Spider_mites Two-spotted_spider_mite', 'Tomato___Target_Spot',\n",
    "    'Tomato___Tomato_mosaic_virus', 'Tomato___Tomato_Yellow_Leaf_Curl_Virus'\n",
    "]\n",
    "unique_classes_list = sorted(set([label.numpy() for _, label in tomato_dataset]))\n",
    "# Print the human-readable class names based on numeric indices\n",
    "print(\"Class names present in the tomato dataset:\")\n",
    "for index in unique_classes_list:\n",
    "    print(label_names[index - 28])"
   ]
  },
  {
   "cell_type": "code",
   "execution_count": 6,
   "id": "e465302c-2f47-42a6-a69a-19b61c66d474",
   "metadata": {
    "tags": []
   },
   "outputs": [
    {
     "name": "stdout",
     "output_type": "stream",
     "text": [
      "Numeric Label: 35\n",
      "Class Label: Tomato___Target_Spot\n",
      "Image Shape: (256, 256, 3)\n",
      "\n",
      "Numeric Label: 31\n",
      "Class Label: Tomato___Late_blight\n",
      "Image Shape: (256, 256, 3)\n",
      "\n",
      "Numeric Label: 34\n",
      "Class Label: Tomato___Spider_mites Two-spotted_spider_mite\n",
      "Image Shape: (256, 256, 3)\n",
      "\n",
      "Numeric Label: 28\n",
      "Class Label: Tomato___Bacterial_spot\n",
      "Image Shape: (256, 256, 3)\n",
      "\n",
      "Numeric Label: 31\n",
      "Class Label: Tomato___Late_blight\n",
      "Image Shape: (256, 256, 3)\n",
      "\n",
      "Numeric Label: 30\n",
      "Class Label: Tomato___healthy\n",
      "Image Shape: (256, 256, 3)\n",
      "\n",
      "Numeric Label: 34\n",
      "Class Label: Tomato___Spider_mites Two-spotted_spider_mite\n",
      "Image Shape: (256, 256, 3)\n",
      "\n",
      "Numeric Label: 36\n",
      "Class Label: Tomato___Tomato_mosaic_virus\n",
      "Image Shape: (256, 256, 3)\n",
      "\n",
      "Numeric Label: 37\n",
      "Class Label: Tomato___Tomato_Yellow_Leaf_Curl_Virus\n",
      "Image Shape: (256, 256, 3)\n",
      "\n",
      "Numeric Label: 37\n",
      "Class Label: Tomato___Tomato_Yellow_Leaf_Curl_Virus\n",
      "Image Shape: (256, 256, 3)\n",
      "\n"
     ]
    }
   ],
   "source": [
    "label_names = [\n",
    "    'Tomato___Bacterial_spot', 'Tomato___Early_blight', 'Tomato___healthy',\n",
    "    'Tomato___Late_blight', 'Tomato___Leaf_Mold', 'Tomato___Septoria_leaf_spot',\n",
    "    'Tomato___Spider_mites Two-spotted_spider_mite', 'Tomato___Target_Spot',\n",
    "    'Tomato___Tomato_mosaic_virus', 'Tomato___Tomato_Yellow_Leaf_Curl_Virus'\n",
    "]\n",
    "\n",
    "# Iterate through the dataset and print out numeric label, class name, and image shape\n",
    "for image, label in tomato_dataset.take(10):  # Take 5 samples for preview\n",
    "    numeric_label = label.numpy()  # Numeric label from dataset\n",
    "    class_name = label_names[numeric_label - 28]  # Adjust index for base value of 28\n",
    "    print(f\"Numeric Label: {numeric_label}\")\n",
    "    print(f\"Class Label: {class_name}\")\n",
    "    print(f\"Image Shape: {image.shape}\\n\")"
   ]
  },
  {
   "cell_type": "code",
   "execution_count": 7,
   "id": "9671900a-4d4b-465d-a312-d32e1c2b5596",
   "metadata": {
    "tags": []
   },
   "outputs": [
    {
     "name": "stdout",
     "output_type": "stream",
     "text": [
      "Unique numeric labels in the tomato dataset: [28, 29, 30, 31, 32, 33, 34, 35, 36, 37]\n",
      "\n",
      "Class names for the unique labels:\n",
      "Numeric Label: 28, Class Label: Tomato___Bacterial_spot\n",
      "Numeric Label: 29, Class Label: Tomato___Early_blight\n",
      "Numeric Label: 30, Class Label: Tomato___healthy\n",
      "Numeric Label: 31, Class Label: Tomato___Late_blight\n",
      "Numeric Label: 32, Class Label: Tomato___Leaf_Mold\n",
      "Numeric Label: 33, Class Label: Tomato___Septoria_leaf_spot\n",
      "Numeric Label: 34, Class Label: Tomato___Spider_mites Two-spotted_spider_mite\n",
      "Numeric Label: 35, Class Label: Tomato___Target_Spot\n",
      "Numeric Label: 36, Class Label: Tomato___Tomato_mosaic_virus\n",
      "Numeric Label: 37, Class Label: Tomato___Tomato_Yellow_Leaf_Curl_Virus\n"
     ]
    },
    {
     "name": "stderr",
     "output_type": "stream",
     "text": [
      "2025-04-10 17:23:58.800486: I tensorflow/core/framework/local_rendezvous.cc:404] Local rendezvous is aborting with status: OUT_OF_RANGE: End of sequence\n"
     ]
    }
   ],
   "source": [
    "# Get all numeric labels in the dataset\n",
    "unique_labels = set()\n",
    "for image, label in tomato_dataset:\n",
    "    unique_labels.add(label.numpy())  # Add the numeric label to the set (set ensures uniqueness)\n",
    "\n",
    "# Print unique labels\n",
    "print(f\"Unique numeric labels in the tomato dataset: {sorted(unique_labels)}\")\n",
    "\n",
    "# Also, print corresponding class names\n",
    "print(\"\\nClass names for the unique labels:\")\n",
    "for label in sorted(unique_labels):\n",
    "    class_name = label_names[label - 28]  # Adjust for base index of 28\n",
    "    print(f\"Numeric Label: {label}, Class Label: {class_name}\")"
   ]
  },
  {
   "cell_type": "code",
   "execution_count": 8,
   "id": "0bb6be53-9fe8-4141-a241-02ea6cb19038",
   "metadata": {
    "tags": []
   },
   "outputs": [],
   "source": [
    "import matplotlib.pyplot as plt\n",
    "import tensorflow as tf\n",
    "from collections import Counter\n",
    "\n",
    "# Count the occurrences of each label in the dataset\n",
    "class_counts = Counter()\n",
    "for _, label in tomato_dataset:\n",
    "    class_counts[label.numpy()] += 1\n",
    "\n",
    "# List of class names based on tomato diseases\n",
    "label_names = [\n",
    "    'Tomato___Bacterial_spot', 'Tomato___Early_blight', 'Tomato___healthy',\n",
    "    'Tomato___Late_blight', 'Tomato___Leaf_Mold', 'Tomato___Septoria_leaf_spot',\n",
    "    'Tomato___Spider_mites Two-spotted_spider_mite', 'Tomato___Target_Spot',\n",
    "    'Tomato___Tomato_mosaic_virus', 'Tomato___Tomato_Yellow_Leaf_Curl_Virus'\n",
    "]\n",
    "\n",
    "# Prepare data for plotting\n",
    "labels = [label_names[i - 28] for i in class_counts.keys()]  # Adjust for the base index of 28\n",
    "counts = [class_counts[i] for i in class_counts.keys()]"
   ]
  },
  {
   "cell_type": "code",
   "execution_count": 62,
   "id": "6e7e8086-0658-4288-acd4-f3c3c3df4c33",
   "metadata": {
    "tags": []
   },
   "outputs": [
    {
     "data": {
      "text/plain": [
       "Counter({32: 373,\n",
       "         34: 373,\n",
       "         28: 373,\n",
       "         29: 373,\n",
       "         30: 373,\n",
       "         36: 373,\n",
       "         33: 373,\n",
       "         37: 373,\n",
       "         35: 373,\n",
       "         31: 373})"
      ]
     },
     "execution_count": 62,
     "metadata": {},
     "output_type": "execute_result"
    }
   ],
   "source": [
    "import random\n",
    "min_tomato = min(class_counts.values())\n",
    "min_tomato\n",
    "labels_before = [label_names[i - 28] for i in class_counts.keys()]\n",
    "counts_before = [class_counts[i] for i in class_counts.keys()]\n",
    "class_samples = {i: [] for i in range(28, 38)}\n",
    "for image, label in tfds.as_numpy(tomato_dataset):\n",
    "    class_samples[label].append((image, label))\n",
    "    \n",
    "tomato_balanced = []\n",
    "for label, samples in class_samples.items():\n",
    "    tomato_balanced.extend(random.sample(samples, min_tomato))\n",
    "    \n",
    "random.shuffle(tomato_balanced)\n",
    "images, labels = zip(*tomato_balanced)\n",
    "\n",
    "new_class_counts = Counter(labels)\n",
    "new_class_counts\n"
   ]
  },
  {
   "cell_type": "code",
   "execution_count": 68,
   "id": "e2882c3b-36d6-4608-a3e6-3f75686c4c21",
   "metadata": {
    "tags": []
   },
   "outputs": [],
   "source": [
    "import tensorflow as tf\n",
    "import random\n",
    "import tensorflow_datasets as tfds\n",
    "import numpy as np\n",
    "from collections import defaultdict\n",
    "\n",
    "def augment_image(image):\n",
    "    # Perform random augmentations\n",
    "    image = tf.image.random_flip_left_right(image)\n",
    "    image = tf.image.random_flip_up_down(image)\n",
    "    image = tf.image.resize_with_crop_or_pad(image, 256, 256)\n",
    "    image = tf.image.random_crop(image, size=[200, 200, 3])\n",
    "    image = tf.image.random_contrast(image, lower=0.4, upper=2.0)\n",
    "    return image\n",
    "\n",
    "def create_augmented_dataset(images, labels, target_size=700):\n",
    "    dataset = tf.data.Dataset.from_tensor_slices((images, labels))\n",
    "\n",
    "    # Apply augmentations to each image\n",
    "    def augment_data(image, label):\n",
    "        augmented_image = augment_image(image)\n",
    "        return augmented_image, label\n",
    "\n",
    "    # Map augmentations to the dataset\n",
    "    augmented_dataset = dataset.map(augment_data, num_parallel_calls=tf.data.AUTOTUNE)\n",
    "    \n",
    "    return augmented_dataset\n",
    "\n",
    "\n",
    "images = []\n",
    "labels = []\n",
    "\n",
    "for image, label in tfds.as_numpy(tomato_dataset):\n",
    "    images.append(image)\n",
    "    labels.append(label)\n",
    "\n",
    "# Convert lists to numpy arrays for easier handling (TensorFlow will handle the tensors)\n",
    "images = np.array(images)\n",
    "labels = np.array(labels)\n",
    "\n",
    "# Create the augmented dataset\n",
    "final_dataset = create_augmented_dataset(images, labels, target_size=700)"
   ]
  },
  {
   "cell_type": "code",
   "execution_count": 83,
   "id": "aec3f29a-2526-4b9a-b605-b93ffc9cca20",
   "metadata": {
    "tags": []
   },
   "outputs": [],
   "source": [
    "import tensorflow as tf\n",
    "import numpy as np\n",
    "from collections import defaultdict\n",
    "\n",
    "def augment_image(image):\n",
    "    \"\"\"Function to augment a single image.\"\"\"\n",
    "    image = tf.image.random_flip_left_right(image)\n",
    "    image = tf.image.random_flip_up_down(image)\n",
    "    image = tf.image.resize_with_crop_or_pad(image, 256, 256)\n",
    "    image = tf.image.random_crop(image, size=[200, 200, 3])\n",
    "    image = tf.image.random_contrast(image, lower=0.4, upper=2.0)\n",
    "    return image\n",
    "\n",
    "\n",
    "def balance_classes(images, labels, target_size=700):\n",
    "    \"\"\"Ensure each class has exactly `target_size` images.\"\"\"\n",
    "    class_images = defaultdict(list)\n",
    "\n",
    "    # Group images by label\n",
    "    for img, label in zip(images, labels):\n",
    "        class_images[int(label)].append(img)\n",
    "\n",
    "    balanced_images = []\n",
    "    balanced_labels = []\n",
    "\n",
    "    for class_label, img_list in class_images.items():\n",
    "        current_count = len(img_list)\n",
    "        print(f\"Class {class_label} starts with {current_count} images\")\n",
    "\n",
    "        if current_count < target_size:\n",
    "            # Augment images to reach the target size\n",
    "            augmented_images = []\n",
    "\n",
    "            while len(augmented_images) < target_size:\n",
    "                needed = target_size - len(augmented_images)\n",
    "                to_augment = random.choices(img_list, k=needed)\n",
    "                for img in to_augment:\n",
    "                    img_tensor = tf.convert_to_tensor(img, dtype=tf.float32)\n",
    "                    img_tensor = preprocess_image(img_tensor)  # resize to [256, 256]\n",
    "                    aug_img = augment_image(img_tensor).numpy()\n",
    "                    augmented_images.append(aug_img)\n",
    "\n",
    "            balanced_images.extend(augmented_images)\n",
    "            balanced_labels.extend([class_label] * target_size)\n",
    "\n",
    "        elif current_count > target_size:\n",
    "            # Downsample\n",
    "            selected = random.sample(img_list, target_size)\n",
    "            balanced_images.extend([preprocess_image(tf.convert_to_tensor(img)).numpy() for img in selected])\n",
    "            balanced_labels.extend([class_label] * target_size)\n",
    "\n",
    "        else:\n",
    "            # Use as is\n",
    "            balanced_images.extend([preprocess_image(tf.convert_to_tensor(img)).numpy() for img in img_list])\n",
    "            balanced_labels.extend([class_label] * target_size)\n",
    "    \n",
    "\n",
    "    return balanced_images, balanced_labels"
   ]
  },
  {
   "cell_type": "code",
   "execution_count": 80,
   "id": "594eb5d9-495a-447a-8a48-f3d8a773d100",
   "metadata": {
    "tags": []
   },
   "outputs": [
    {
     "name": "stdout",
     "output_type": "stream",
     "text": [
      "Class 28: 700 images\n",
      "Class 29: 700 images\n",
      "Class 30: 700 images\n",
      "Class 31: 700 images\n",
      "Class 32: 700 images\n",
      "Class 33: 700 images\n",
      "Class 34: 700 images\n",
      "Class 35: 700 images\n",
      "Class 36: 327 images\n",
      "Class 37: 700 images\n"
     ]
    }
   ],
   "source": [
    "from collections import Counter\n",
    "\n",
    "class_counts = Counter(balanced_labels)\n",
    "\n",
    "for class_id in sorted(class_counts):\n",
    "    print(f\"Class {class_id}: {class_counts[class_id]} images\")"
   ]
  },
  {
   "cell_type": "code",
   "execution_count": 82,
   "id": "86a74db3-6100-449e-890b-c027142f696d",
   "metadata": {
    "tags": []
   },
   "outputs": [
    {
     "name": "stdout",
     "output_type": "stream",
     "text": [
      "Original Class 36 count: 373\n"
     ]
    }
   ],
   "source": [
    "original_class_36 = [img for img, label in zip(images, labels) if label == 36]\n",
    "print(f\"Original Class 36 count: {len(original_class_36)}\")"
   ]
  },
  {
   "cell_type": "code",
   "execution_count": 86,
   "id": "8ab59ac7-c1be-4073-8648-14a754e5943d",
   "metadata": {
    "tags": []
   },
   "outputs": [],
   "source": [
    "import tensorflow as tf\n",
    "import numpy as np\n",
    "from collections import defaultdict\n",
    "import random\n",
    "\n",
    "def preprocess_image(image):\n",
    "    \"\"\"Resizes image to [256, 256] for consistent shape.\"\"\"\n",
    "    return tf.image.resize(image, [256, 256])\n",
    "\n",
    "def augment_image(image):\n",
    "    \"\"\"Applies random augmentations, returns [200, 200, 3] image.\"\"\"\n",
    "    image = tf.image.random_flip_left_right(image)\n",
    "    image = tf.image.random_flip_up_down(image)\n",
    "    image = tf.image.resize_with_crop_or_pad(image, 256, 256)\n",
    "    image = tf.image.random_crop(image, size=[200, 200, 3])\n",
    "    image = tf.image.random_contrast(image, lower=0.4, upper=2.0)\n",
    "    return image\n",
    "\n",
    "def balance_classes(images, labels, target_size=700):\n",
    "    class_images = defaultdict(list)\n",
    "\n",
    "    # Group by label\n",
    "    for img, label in zip(images, labels):\n",
    "        class_images[int(label)].append(img)\n",
    "\n",
    "    balanced_images = []\n",
    "    balanced_labels = []\n",
    "\n",
    "    for class_label, img_list in class_images.items():\n",
    "        print(f\"\\nProcessing class {class_label} with {len(img_list)} original images\")\n",
    "\n",
    "        current_count = len(img_list)\n",
    "        processed = []\n",
    "\n",
    "        # Preprocess all images first to avoid shape issues later\n",
    "        for img in img_list:\n",
    "            try:\n",
    "                img_tensor = tf.convert_to_tensor(img, dtype=tf.float32)\n",
    "                img_tensor = preprocess_image(img_tensor)\n",
    "                processed.append(img_tensor.numpy())\n",
    "            except Exception as e:\n",
    "                print(f\"Skipping image due to preprocessing error: {e}\")\n",
    "\n",
    "        if len(processed) == 0:\n",
    "            print(f\"Class {class_label} has no usable images. Skipping.\")\n",
    "            continue\n",
    "\n",
    "        if current_count < target_size:\n",
    "            # Augment until reaching target_size\n",
    "            augmented = []\n",
    "            while len(augmented) < target_size:\n",
    "                needed = target_size - len(augmented)\n",
    "                to_augment = random.choices(processed, k=needed)\n",
    "                for img in to_augment:\n",
    "                    try:\n",
    "                        img_tensor = tf.convert_to_tensor(img, dtype=tf.float32)\n",
    "                        aug_img = augment_image(img_tensor).numpy()\n",
    "                        augmented.append(aug_img)\n",
    "                    except Exception as e:\n",
    "                        print(f\"Augmentation error in class {class_label}: {e}\")\n",
    "\n",
    "                    if len(augmented) >= target_size:\n",
    "                        break\n",
    "\n",
    "            balanced_images.extend(augmented)\n",
    "            balanced_labels.extend([class_label] * target_size)\n",
    "            print(f\"Class {class_label} balanced to {len(augmented)} images\")\n",
    "\n",
    "        elif current_count > target_size:\n",
    "            # Downsample\n",
    "            selected = random.sample(processed, target_size)\n",
    "            balanced_images.extend(selected)\n",
    "            balanced_labels.extend([class_label] * target_size)\n",
    "            print(f\"Class {class_label} downsampled to {target_size} images\")\n",
    "\n",
    "        else:\n",
    "            # Already the right size\n",
    "            balanced_images.extend(processed)\n",
    "            balanced_labels.extend([class_label] * target_size)\n",
    "            print(f\"Class {class_label} used as is with {target_size} images\")\n",
    "\n",
    "    return balanced_images, balanced_labels"
   ]
  },
  {
   "cell_type": "code",
   "execution_count": 88,
   "id": "d9ebbcc3-c1fa-4698-9d94-4a9636bd2e04",
   "metadata": {
    "tags": []
   },
   "outputs": [
    {
     "name": "stdout",
     "output_type": "stream",
     "text": [
      "Class 28: 700 images\n",
      "Class 29: 700 images\n",
      "Class 30: 700 images\n",
      "Class 31: 700 images\n",
      "Class 32: 700 images\n",
      "Class 33: 700 images\n",
      "Class 34: 700 images\n",
      "Class 35: 700 images\n",
      "Class 36: 327 images\n",
      "Class 37: 700 images\n"
     ]
    }
   ],
   "source": [
    "from collections import Counter\n",
    "\n",
    "class_counts = Counter(balanced_labels)\n",
    "for class_id in sorted(class_counts):\n",
    "    print(f\"Class {class_id}: {class_counts[class_id]} images\")"
   ]
  },
  {
   "cell_type": "code",
   "execution_count": 91,
   "id": "c8535a22-2b48-409f-823e-be446c0c1407",
   "metadata": {
    "tags": []
   },
   "outputs": [
    {
     "name": "stdout",
     "output_type": "stream",
     "text": [
      "Class 36 has 373 valid images\n"
     ]
    }
   ],
   "source": [
    "valid_class_36 = 0\n",
    "\n",
    "for img, label in zip(images, labels):\n",
    "    if label == 36:\n",
    "        try:\n",
    "            img_tensor = tf.convert_to_tensor(img, dtype=tf.float32)\n",
    "            _ = preprocess_image(img_tensor)  # Resize test\n",
    "            valid_class_36 += 1\n",
    "        except Exception as e:\n",
    "            print(f\"Invalid image in class 36: {e}\")\n",
    "\n",
    "print(f\"Class 36 has {valid_class_36} valid images\")"
   ]
  },
  {
   "cell_type": "code",
   "execution_count": 94,
   "id": "29d143fd-1bcc-4a6e-aab8-dc057a24f593",
   "metadata": {
    "tags": []
   },
   "outputs": [],
   "source": [
    "import tensorflow as tf\n",
    "import numpy as np\n",
    "from collections import defaultdict\n",
    "import random\n",
    "\n",
    "def preprocess_image(image):\n",
    "    \"\"\"Resizes image to [256, 256] for consistent shape.\"\"\"\n",
    "    return tf.image.resize(image, [256, 256])\n",
    "\n",
    "def augment_image(image):\n",
    "    \"\"\"Applies random augmentations, returns [200, 200, 3] image.\"\"\"\n",
    "    image = tf.image.random_flip_left_right(image)\n",
    "    image = tf.image.random_flip_up_down(image)\n",
    "    image = tf.image.resize_with_crop_or_pad(image, 256, 256)\n",
    "    image = tf.image.random_crop(image, size=[200, 200, 3])\n",
    "    image = tf.image.random_contrast(image, lower=0.4, upper=2.0)\n",
    "    return image\n",
    "\n",
    "def balance_classes(images, labels, target_size=700):\n",
    "    class_images = defaultdict(list)\n",
    "\n",
    "    # Group images by label\n",
    "    for img, label in zip(images, labels):\n",
    "        class_images[int(label)].append(img)\n",
    "\n",
    "    balanced_images = []\n",
    "    balanced_labels = []\n",
    "\n",
    "    for class_label, img_list in class_images.items():\n",
    "        print(f\"\\nProcessing class {class_label} with {len(img_list)} original images\")\n",
    "\n",
    "        # Step 1: Preprocess all valid images\n",
    "        processed = []\n",
    "        for img in img_list:\n",
    "            try:\n",
    "                img_tensor = tf.convert_to_tensor(img, dtype=tf.float32)\n",
    "                img_tensor = preprocess_image(img_tensor)\n",
    "                processed.append(img_tensor.numpy())\n",
    "            except Exception as e:\n",
    "                print(f\"Skipping bad image in class {class_label}: {e}\")\n",
    "\n",
    "        if len(processed) == 0:\n",
    "            print(f\"No valid images found for class {class_label}. Skipping...\")\n",
    "            continue\n",
    "\n",
    "        # Step 2: Handle class balancing\n",
    "        if len(processed) < target_size:\n",
    "            print(f\"Only {len(processed)} valid images in class {class_label}. Augmenting to {target_size}...\")\n",
    "\n",
    "            augmented = []\n",
    "\n",
    "            # 🔁 Augment until target_size is reached\n",
    "            while len(augmented) < target_size:\n",
    "                img = random.choice(processed)\n",
    "                try:\n",
    "                    aug_img = augment_image(tf.convert_to_tensor(img)).numpy()\n",
    "                    augmented.append(aug_img)\n",
    "                except Exception as e:\n",
    "                    print(f\"Augmentation error: {e}\")\n",
    "                    continue\n",
    "\n",
    "            balanced_images.extend(augmented)\n",
    "            balanced_labels.extend([class_label] * target_size)\n",
    "            print(f\"Class {class_label} balanced to {target_size} images\")\n",
    "\n",
    "        elif len(processed) > target_size:\n",
    "            # Downsample\n",
    "            selected = random.sample(processed, target_size)\n",
    "            balanced_images.extend(selected)\n",
    "            balanced_labels.extend([class_label] * target_size)\n",
    "            print(f\"Class {class_label} downsampled to {target_size} images\")\n",
    "\n",
    "        else:\n",
    "            # Exact match\n",
    "            balanced_images.extend(processed)\n",
    "            balanced_labels.extend([class_label] * target_size)\n",
    "            print(f\"Class {class_label} already balanced\")\n",
    "\n",
    "    return balanced_images, balanced_labels"
   ]
  },
  {
   "cell_type": "code",
   "execution_count": 95,
   "id": "01ac5df1-25f9-48a5-b4b0-18d79ce2376c",
   "metadata": {
    "tags": []
   },
   "outputs": [
    {
     "name": "stdout",
     "output_type": "stream",
     "text": [
      "Class 28: 700 images\n",
      "Class 29: 700 images\n",
      "Class 30: 700 images\n",
      "Class 31: 700 images\n",
      "Class 32: 700 images\n",
      "Class 33: 700 images\n",
      "Class 34: 700 images\n",
      "Class 35: 700 images\n",
      "Class 36: 327 images\n",
      "Class 37: 700 images\n"
     ]
    }
   ],
   "source": [
    "from collections import Counter\n",
    "\n",
    "class_counts = Counter(balanced_labels)\n",
    "for class_id in sorted(class_counts):\n",
    "    print(f\"Class {class_id}: {class_counts[class_id]} images\")"
   ]
  },
  {
   "cell_type": "code",
   "execution_count": 97,
   "id": "3232c9fe-f032-4737-ae43-9f7b9eb0b6f6",
   "metadata": {
    "tags": []
   },
   "outputs": [
    {
     "name": "stdout",
     "output_type": "stream",
     "text": [
      "✅ Class 36 usable images: 373\n"
     ]
    }
   ],
   "source": [
    "valid_class_36 = []\n",
    "\n",
    "for img, label in zip(images, labels):\n",
    "    if label == 36:\n",
    "        try:\n",
    "            img_tensor = tf.convert_to_tensor(img, dtype=tf.float32)\n",
    "            resized = preprocess_image(img_tensor)\n",
    "            valid_class_36.append(resized)\n",
    "        except Exception as e:\n",
    "            print(f\"Preprocessing failed: {e}\")\n",
    "\n",
    "print(f\"Class 36 usable images: {len(valid_class_36)}\")"
   ]
  },
  {
   "cell_type": "code",
   "execution_count": 99,
   "id": "968f2b9e-96f8-47e3-864b-53a004aa9057",
   "metadata": {
    "tags": []
   },
   "outputs": [],
   "source": [
    "import random\n",
    "import tensorflow as tf\n",
    "from collections import defaultdict\n",
    "\n",
    "def augment_image(image):\n",
    "    \"\"\"Function to augment a single image.\"\"\"\n",
    "    image = tf.image.random_flip_left_right(image)\n",
    "    image = tf.image.random_flip_up_down(image)\n",
    "    image = tf.image.resize_with_crop_or_pad(image, 256, 256)\n",
    "    image = tf.image.random_crop(image, size=[200, 200, 3])\n",
    "    image = tf.image.random_contrast(image, lower=0.4, upper=2.0)\n",
    "    return image\n",
    "\n",
    "def preprocess_image(image):\n",
    "    \"\"\"Preprocessing function to resize image.\"\"\"\n",
    "    # Resize image to [256, 256, 3] before augmentation\n",
    "    return tf.image.resize(image, [256, 256])\n",
    "\n",
    "def balance_classes(images, labels, target_size=700):\n",
    "    \"\"\"Ensure each class has exactly `target_size` images.\"\"\"\n",
    "    class_images = defaultdict(list)\n",
    "\n",
    "    # Group images by label\n",
    "    for img, label in zip(images, labels):\n",
    "        class_images[int(label)].append(img)\n",
    "\n",
    "    balanced_images = []\n",
    "    balanced_labels = []\n",
    "\n",
    "    for class_label, img_list in class_images.items():\n",
    "        current_count = len(img_list)\n",
    "        print(f\"Class {class_label} starts with {current_count} images\")\n",
    "\n",
    "        if current_count < target_size:\n",
    "            # Augment images to reach the target size\n",
    "            augmented_images = []\n",
    "\n",
    "            while len(augmented_images) < target_size:\n",
    "                needed = target_size - len(augmented_images)\n",
    "                to_augment = random.choices(img_list, k=needed)\n",
    "\n",
    "                for img in to_augment:\n",
    "                    img_tensor = tf.convert_to_tensor(img, dtype=tf.float32)\n",
    "                    img_tensor = preprocess_image(img_tensor)  # resize to [256, 256]\n",
    "                    try:\n",
    "                        aug_img = augment_image(img_tensor).numpy()\n",
    "                        augmented_images.append(aug_img)\n",
    "                    except Exception as e:\n",
    "                        print(f\"Augmentation error: {e}\")\n",
    "                        continue\n",
    "\n",
    "            balanced_images.extend(augmented_images)\n",
    "            balanced_labels.extend([class_label] * target_size)\n",
    "\n",
    "        elif current_count > target_size:\n",
    "            # Downsample to target size\n",
    "            selected = random.sample(img_list, target_size)\n",
    "            balanced_images.extend([preprocess_image(tf.convert_to_tensor(img)).numpy() for img in selected])\n",
    "            balanced_labels.extend([class_label] * target_size)\n",
    "\n",
    "        else:\n",
    "            # Use as is\n",
    "            balanced_images.extend([preprocess_image(tf.convert_to_tensor(img)).numpy() for img in img_list])\n",
    "            balanced_labels.extend([class_label] * target_size)\n",
    "    \n",
    "    return balanced_images, balanced_labels"
   ]
  },
  {
   "cell_type": "code",
   "execution_count": 101,
   "id": "433ebbb3-579c-45f0-a67a-b9588e256d4f",
   "metadata": {
    "tags": []
   },
   "outputs": [
    {
     "name": "stdout",
     "output_type": "stream",
     "text": [
      "Class 32 starts with 373 images\n",
      "Class 34 starts with 373 images\n",
      "Class 28 starts with 373 images\n",
      "Class 29 starts with 373 images\n",
      "Class 30 starts with 373 images\n",
      "Class 36 starts with 373 images\n",
      "Class 33 starts with 373 images\n",
      "Class 37 starts with 373 images\n",
      "Class 35 starts with 373 images\n",
      "Class 31 starts with 373 images\n",
      "Class 28: 700 images\n",
      "Class 29: 700 images\n",
      "Class 30: 700 images\n",
      "Class 31: 700 images\n",
      "Class 32: 700 images\n",
      "Class 33: 700 images\n",
      "Class 34: 700 images\n",
      "Class 35: 700 images\n",
      "Class 36: 700 images\n",
      "Class 37: 700 images\n"
     ]
    }
   ],
   "source": [
    "from collections import Counter\n",
    "\n",
    "# After calling balance_classes function\n",
    "balanced_images, balanced_labels = balance_classes(images, labels, target_size=700)\n",
    "\n",
    "# Use Counter to count the occurrences of each class in balanced_labels\n",
    "class_counts = Counter(balanced_labels)\n",
    "\n",
    "# Print class count\n",
    "for class_id, count in sorted(class_counts.items()):\n",
    "    print(f\"Class {class_id}: {count} images\")"
   ]
  },
  {
   "cell_type": "code",
   "execution_count": 103,
   "id": "96b64a90-3710-4976-99f5-a6e75f588880",
   "metadata": {
    "tags": []
   },
   "outputs": [
    {
     "data": {
      "image/png": "[encoded data removed]",
      "text/plain": [
       "<Figure size 1000x600 with 1 Axes>"
      ]
     },
     "metadata": {},
     "output_type": "display_data"
    }
   ],
   "source": [
    "import matplotlib.pyplot as plt\n",
    "from collections import Counter\n",
    "\n",
    "# Assuming you already have balanced_labels from the balance_classes function\n",
    "# balanced_labels contains the class labels after balancing\n",
    "\n",
    "# Use Counter to count the occurrences of each class in balanced_labels\n",
    "class_counts = Counter(balanced_labels)\n",
    "\n",
    "# Prepare data for plotting\n",
    "classes = list(class_counts.keys())  # List of class IDs\n",
    "counts = list(class_counts.values())  # Corresponding counts of each class\n",
    "\n",
    "# Create a bar graph\n",
    "plt.figure(figsize=(10, 6))\n",
    "plt.bar(classes, counts, color='forestgreen')\n",
    "\n",
    "# Add labels and title\n",
    "plt.xlabel('Class ID')\n",
    "plt.ylabel('Number of Images')\n",
    "plt.title('Class Distribution After Balancing')\n",
    "\n",
    "# Show the plot\n",
    "plt.xticks(classes)  # Set x-axis labels to class IDs\n",
    "plt.tight_layout()  # Adjust layout to prevent clipping of labels\n",
    "plt.show()"
   ]
  },
  {
   "cell_type": "code",
   "execution_count": null,
   "id": "6e575372-93df-4983-95c0-7a4e57ce103d",
   "metadata": {},
   "outputs": [],
   "source": []
  }
 ],
 "metadata": {
  "kernelspec": {
   "display_name": "Tensorflow 2.17.0",
   "language": "python",
   "name": "tensorflow-2.17.0"
  },
  "language_info": {
   "codemirror_mode": {
    "name": "ipython",
    "version": 3
   },
   "file_extension": ".py",
   "mimetype": "text/x-python",
   "name": "python",
   "nbconvert_exporter": "python",
   "pygments_lexer": "ipython3",
   "version": "3.12.3"
  }
 },
 "nbformat": 4,
 "nbformat_minor": 5
}
